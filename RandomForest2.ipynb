{
 "cells": [
  {
   "cell_type": "code",
   "execution_count": null,
   "metadata": {},
   "outputs": [],
   "source": []
  },
  {
   "cell_type": "markdown",
   "metadata": {},
   "source": [
    "# Random Forest, test 2 avec interface"
   ]
  },
  {
   "cell_type": "markdown",
   "metadata": {},
   "source": [
    "Texte obtenu sur https://www.lovelyanalytics.com/2020/06/08/random-forest-tutoriel-python/"
   ]
  },
  {
   "cell_type": "markdown",
   "metadata": {},
   "source": [
    "## Chargement des librairies Python"
   ]
  },
  {
   "cell_type": "code",
   "execution_count": 1,
   "metadata": {},
   "outputs": [],
   "source": [
    "import pandas as pd  \n",
    "import numpy as np\n",
    "import pandas_profiling\n",
    "import seaborn as sns\n",
    "import matplotlib.pyplot as plt\n",
    "from sklearn.model_selection import train_test_split"
   ]
  },
  {
   "cell_type": "markdown",
   "metadata": {},
   "source": [
    "## Chargement des données"
   ]
  },
  {
   "cell_type": "code",
   "execution_count": 2,
   "metadata": {},
   "outputs": [
    {
     "name": "stdout",
     "output_type": "stream",
     "text": [
      "Le fichier a 372 lignes et 35 colonnes\n"
     ]
    }
   ],
   "source": [
    "df = pd.read_csv('Base_donne_VF.tsv',sep=\"\\t\")\n",
    "print(\"Le fichier a \" + str(df.shape[0]) + \" lignes et \" + str(df.shape[1]) + \" colonnes\")"
   ]
  },
  {
   "cell_type": "markdown",
   "metadata": {},
   "source": [
    "## Exploration des données"
   ]
  },
  {
   "cell_type": "code",
   "execution_count": 3,
   "metadata": {},
   "outputs": [
    {
     "data": {
      "text/html": [
       "<div>\n",
       "<style scoped>\n",
       "    .dataframe tbody tr th:only-of-type {\n",
       "        vertical-align: middle;\n",
       "    }\n",
       "\n",
       "    .dataframe tbody tr th {\n",
       "        vertical-align: top;\n",
       "    }\n",
       "\n",
       "    .dataframe thead th {\n",
       "        text-align: right;\n",
       "    }\n",
       "</style>\n",
       "<table border=\"1\" class=\"dataframe\">\n",
       "  <thead>\n",
       "    <tr style=\"text-align: right;\">\n",
       "      <th></th>\n",
       "      <th>Nom Alliage</th>\n",
       "      <th>Prix (US$/kg)</th>\n",
       "      <th>E (GPa)</th>\n",
       "      <th>Ni</th>\n",
       "      <th>Cr</th>\n",
       "      <th>Fe</th>\n",
       "      <th>C</th>\n",
       "      <th>Cu</th>\n",
       "      <th>Ti</th>\n",
       "      <th>W</th>\n",
       "      <th>...</th>\n",
       "      <th>[HCl]</th>\n",
       "      <th>[Cl-] hors HCL</th>\n",
       "      <th>[Fe3+]</th>\n",
       "      <th>[H2SO4]/[HNO3]</th>\n",
       "      <th>[HBR]</th>\n",
       "      <th>[SO2] . [CO2/H2S]</th>\n",
       "      <th>Fe2SO4</th>\n",
       "      <th>[ions métalliques] [Na-.K-] hors acidifiant</th>\n",
       "      <th>Force appliquée (N.m)</th>\n",
       "      <th>Vitesse du courant (m/s)</th>\n",
       "    </tr>\n",
       "  </thead>\n",
       "  <tbody>\n",
       "    <tr>\n",
       "      <th>0</th>\n",
       "      <td>N0625</td>\n",
       "      <td>43.180</td>\n",
       "      <td>206.0</td>\n",
       "      <td>62.0</td>\n",
       "      <td>22.0</td>\n",
       "      <td>5.0</td>\n",
       "      <td>0.10</td>\n",
       "      <td>0.5</td>\n",
       "      <td>0.4</td>\n",
       "      <td>0.0</td>\n",
       "      <td>...</td>\n",
       "      <td>10.0</td>\n",
       "      <td>0.0</td>\n",
       "      <td>0.0</td>\n",
       "      <td>0.0</td>\n",
       "      <td>0.0</td>\n",
       "      <td>0.0</td>\n",
       "      <td>0.0</td>\n",
       "      <td>0</td>\n",
       "      <td>0</td>\n",
       "      <td>0.0</td>\n",
       "    </tr>\n",
       "    <tr>\n",
       "      <th>1</th>\n",
       "      <td>N0625</td>\n",
       "      <td>43.180</td>\n",
       "      <td>206.0</td>\n",
       "      <td>62.0</td>\n",
       "      <td>22.0</td>\n",
       "      <td>5.0</td>\n",
       "      <td>0.10</td>\n",
       "      <td>0.5</td>\n",
       "      <td>0.4</td>\n",
       "      <td>0.0</td>\n",
       "      <td>...</td>\n",
       "      <td>30.0</td>\n",
       "      <td>0.0</td>\n",
       "      <td>0.0</td>\n",
       "      <td>0.0</td>\n",
       "      <td>0.0</td>\n",
       "      <td>0.0</td>\n",
       "      <td>0.0</td>\n",
       "      <td>0</td>\n",
       "      <td>0</td>\n",
       "      <td>0.0</td>\n",
       "    </tr>\n",
       "    <tr>\n",
       "      <th>2</th>\n",
       "      <td>N0625</td>\n",
       "      <td>43.180</td>\n",
       "      <td>206.0</td>\n",
       "      <td>62.0</td>\n",
       "      <td>22.0</td>\n",
       "      <td>5.0</td>\n",
       "      <td>0.10</td>\n",
       "      <td>0.5</td>\n",
       "      <td>0.4</td>\n",
       "      <td>0.0</td>\n",
       "      <td>...</td>\n",
       "      <td>20.0</td>\n",
       "      <td>0.0</td>\n",
       "      <td>0.0</td>\n",
       "      <td>0.0</td>\n",
       "      <td>0.0</td>\n",
       "      <td>0.0</td>\n",
       "      <td>0.0</td>\n",
       "      <td>0</td>\n",
       "      <td>0</td>\n",
       "      <td>0.0</td>\n",
       "    </tr>\n",
       "    <tr>\n",
       "      <th>3</th>\n",
       "      <td>N0625</td>\n",
       "      <td>43.180</td>\n",
       "      <td>206.0</td>\n",
       "      <td>62.0</td>\n",
       "      <td>22.0</td>\n",
       "      <td>5.0</td>\n",
       "      <td>0.10</td>\n",
       "      <td>0.5</td>\n",
       "      <td>0.4</td>\n",
       "      <td>0.0</td>\n",
       "      <td>...</td>\n",
       "      <td>10.0</td>\n",
       "      <td>0.0</td>\n",
       "      <td>0.0</td>\n",
       "      <td>0.0</td>\n",
       "      <td>0.0</td>\n",
       "      <td>0.0</td>\n",
       "      <td>0.0</td>\n",
       "      <td>0</td>\n",
       "      <td>0</td>\n",
       "      <td>0.0</td>\n",
       "    </tr>\n",
       "    <tr>\n",
       "      <th>4</th>\n",
       "      <td>N0625</td>\n",
       "      <td>43.180</td>\n",
       "      <td>206.0</td>\n",
       "      <td>62.0</td>\n",
       "      <td>22.0</td>\n",
       "      <td>5.0</td>\n",
       "      <td>0.10</td>\n",
       "      <td>0.5</td>\n",
       "      <td>0.4</td>\n",
       "      <td>0.0</td>\n",
       "      <td>...</td>\n",
       "      <td>20.0</td>\n",
       "      <td>0.0</td>\n",
       "      <td>0.0</td>\n",
       "      <td>0.0</td>\n",
       "      <td>0.0</td>\n",
       "      <td>0.0</td>\n",
       "      <td>0.0</td>\n",
       "      <td>0</td>\n",
       "      <td>0</td>\n",
       "      <td>0.0</td>\n",
       "    </tr>\n",
       "    <tr>\n",
       "      <th>...</th>\n",
       "      <td>...</td>\n",
       "      <td>...</td>\n",
       "      <td>...</td>\n",
       "      <td>...</td>\n",
       "      <td>...</td>\n",
       "      <td>...</td>\n",
       "      <td>...</td>\n",
       "      <td>...</td>\n",
       "      <td>...</td>\n",
       "      <td>...</td>\n",
       "      <td>...</td>\n",
       "      <td>...</td>\n",
       "      <td>...</td>\n",
       "      <td>...</td>\n",
       "      <td>...</td>\n",
       "      <td>...</td>\n",
       "      <td>...</td>\n",
       "      <td>...</td>\n",
       "      <td>...</td>\n",
       "      <td>...</td>\n",
       "      <td>...</td>\n",
       "    </tr>\n",
       "    <tr>\n",
       "      <th>367</th>\n",
       "      <td>304L</td>\n",
       "      <td>2.529</td>\n",
       "      <td>203.0</td>\n",
       "      <td>12.0</td>\n",
       "      <td>20.0</td>\n",
       "      <td>75.0</td>\n",
       "      <td>0.03</td>\n",
       "      <td>0.0</td>\n",
       "      <td>0.0</td>\n",
       "      <td>0.0</td>\n",
       "      <td>...</td>\n",
       "      <td>0.0</td>\n",
       "      <td>0.0</td>\n",
       "      <td>0.0</td>\n",
       "      <td>20.0</td>\n",
       "      <td>0.0</td>\n",
       "      <td>0.0</td>\n",
       "      <td>0.0</td>\n",
       "      <td>0</td>\n",
       "      <td>0</td>\n",
       "      <td>0.0</td>\n",
       "    </tr>\n",
       "    <tr>\n",
       "      <th>368</th>\n",
       "      <td>304L</td>\n",
       "      <td>2.529</td>\n",
       "      <td>203.0</td>\n",
       "      <td>12.0</td>\n",
       "      <td>20.0</td>\n",
       "      <td>75.0</td>\n",
       "      <td>0.03</td>\n",
       "      <td>0.0</td>\n",
       "      <td>0.0</td>\n",
       "      <td>0.0</td>\n",
       "      <td>...</td>\n",
       "      <td>0.0</td>\n",
       "      <td>0.0</td>\n",
       "      <td>0.0</td>\n",
       "      <td>30.0</td>\n",
       "      <td>0.0</td>\n",
       "      <td>0.0</td>\n",
       "      <td>0.0</td>\n",
       "      <td>0</td>\n",
       "      <td>0</td>\n",
       "      <td>0.0</td>\n",
       "    </tr>\n",
       "    <tr>\n",
       "      <th>369</th>\n",
       "      <td>304H</td>\n",
       "      <td>2.609</td>\n",
       "      <td>203.0</td>\n",
       "      <td>10.5</td>\n",
       "      <td>20.0</td>\n",
       "      <td>78.0</td>\n",
       "      <td>0.04</td>\n",
       "      <td>0.0</td>\n",
       "      <td>0.0</td>\n",
       "      <td>0.0</td>\n",
       "      <td>...</td>\n",
       "      <td>0.0</td>\n",
       "      <td>0.0</td>\n",
       "      <td>0.0</td>\n",
       "      <td>10.0</td>\n",
       "      <td>0.0</td>\n",
       "      <td>0.0</td>\n",
       "      <td>0.0</td>\n",
       "      <td>0</td>\n",
       "      <td>0</td>\n",
       "      <td>0.0</td>\n",
       "    </tr>\n",
       "    <tr>\n",
       "      <th>370</th>\n",
       "      <td>304H</td>\n",
       "      <td>2.609</td>\n",
       "      <td>203.0</td>\n",
       "      <td>10.5</td>\n",
       "      <td>20.0</td>\n",
       "      <td>78.0</td>\n",
       "      <td>0.04</td>\n",
       "      <td>0.0</td>\n",
       "      <td>0.0</td>\n",
       "      <td>0.0</td>\n",
       "      <td>...</td>\n",
       "      <td>0.0</td>\n",
       "      <td>0.0</td>\n",
       "      <td>0.0</td>\n",
       "      <td>20.0</td>\n",
       "      <td>0.0</td>\n",
       "      <td>0.0</td>\n",
       "      <td>0.0</td>\n",
       "      <td>0</td>\n",
       "      <td>0</td>\n",
       "      <td>0.0</td>\n",
       "    </tr>\n",
       "    <tr>\n",
       "      <th>371</th>\n",
       "      <td>304H</td>\n",
       "      <td>2.609</td>\n",
       "      <td>203.0</td>\n",
       "      <td>10.5</td>\n",
       "      <td>20.0</td>\n",
       "      <td>78.0</td>\n",
       "      <td>0.04</td>\n",
       "      <td>0.0</td>\n",
       "      <td>0.0</td>\n",
       "      <td>0.0</td>\n",
       "      <td>...</td>\n",
       "      <td>0.0</td>\n",
       "      <td>0.0</td>\n",
       "      <td>0.0</td>\n",
       "      <td>30.0</td>\n",
       "      <td>0.0</td>\n",
       "      <td>0.0</td>\n",
       "      <td>0.0</td>\n",
       "      <td>0</td>\n",
       "      <td>0</td>\n",
       "      <td>0.0</td>\n",
       "    </tr>\n",
       "  </tbody>\n",
       "</table>\n",
       "<p>372 rows × 35 columns</p>\n",
       "</div>"
      ],
      "text/plain": [
       "    Nom Alliage  Prix (US$/kg)  E (GPa)    Ni    Cr    Fe     C   Cu   Ti  \\\n",
       "0         N0625         43.180    206.0  62.0  22.0   5.0  0.10  0.5  0.4   \n",
       "1         N0625         43.180    206.0  62.0  22.0   5.0  0.10  0.5  0.4   \n",
       "2         N0625         43.180    206.0  62.0  22.0   5.0  0.10  0.5  0.4   \n",
       "3         N0625         43.180    206.0  62.0  22.0   5.0  0.10  0.5  0.4   \n",
       "4         N0625         43.180    206.0  62.0  22.0   5.0  0.10  0.5  0.4   \n",
       "..          ...            ...      ...   ...   ...   ...   ...  ...  ...   \n",
       "367        304L          2.529    203.0  12.0  20.0  75.0  0.03  0.0  0.0   \n",
       "368        304L          2.529    203.0  12.0  20.0  75.0  0.03  0.0  0.0   \n",
       "369        304H          2.609    203.0  10.5  20.0  78.0  0.04  0.0  0.0   \n",
       "370        304H          2.609    203.0  10.5  20.0  78.0  0.04  0.0  0.0   \n",
       "371        304H          2.609    203.0  10.5  20.0  78.0  0.04  0.0  0.0   \n",
       "\n",
       "       W  ...  [HCl]  [Cl-] hors HCL  [Fe3+]  [H2SO4]/[HNO3]  [HBR]  \\\n",
       "0    0.0  ...   10.0             0.0     0.0             0.0    0.0   \n",
       "1    0.0  ...   30.0             0.0     0.0             0.0    0.0   \n",
       "2    0.0  ...   20.0             0.0     0.0             0.0    0.0   \n",
       "3    0.0  ...   10.0             0.0     0.0             0.0    0.0   \n",
       "4    0.0  ...   20.0             0.0     0.0             0.0    0.0   \n",
       "..   ...  ...    ...             ...     ...             ...    ...   \n",
       "367  0.0  ...    0.0             0.0     0.0            20.0    0.0   \n",
       "368  0.0  ...    0.0             0.0     0.0            30.0    0.0   \n",
       "369  0.0  ...    0.0             0.0     0.0            10.0    0.0   \n",
       "370  0.0  ...    0.0             0.0     0.0            20.0    0.0   \n",
       "371  0.0  ...    0.0             0.0     0.0            30.0    0.0   \n",
       "\n",
       "     [SO2] . [CO2/H2S]  Fe2SO4  [ions métalliques] [Na-.K-] hors acidifiant  \\\n",
       "0                  0.0     0.0                                            0   \n",
       "1                  0.0     0.0                                            0   \n",
       "2                  0.0     0.0                                            0   \n",
       "3                  0.0     0.0                                            0   \n",
       "4                  0.0     0.0                                            0   \n",
       "..                 ...     ...                                          ...   \n",
       "367                0.0     0.0                                            0   \n",
       "368                0.0     0.0                                            0   \n",
       "369                0.0     0.0                                            0   \n",
       "370                0.0     0.0                                            0   \n",
       "371                0.0     0.0                                            0   \n",
       "\n",
       "     Force appliquée (N.m)  Vitesse du courant (m/s)  \n",
       "0                        0                       0.0  \n",
       "1                        0                       0.0  \n",
       "2                        0                       0.0  \n",
       "3                        0                       0.0  \n",
       "4                        0                       0.0  \n",
       "..                     ...                       ...  \n",
       "367                      0                       0.0  \n",
       "368                      0                       0.0  \n",
       "369                      0                       0.0  \n",
       "370                      0                       0.0  \n",
       "371                      0                       0.0  \n",
       "\n",
       "[372 rows x 35 columns]"
      ]
     },
     "execution_count": 3,
     "metadata": {},
     "output_type": "execute_result"
    }
   ],
   "source": [
    "#Liste des colonnes et leur type \n",
    "df.dtypes\n",
    "\n",
    "df"
   ]
  },
  {
   "cell_type": "markdown",
   "metadata": {},
   "source": [
    "## Analyse de la qualité des données avec panda profiling"
   ]
  },
  {
   "cell_type": "markdown",
   "metadata": {},
   "source": [
    "On fait un état des lieux de la qualité des données :\n",
    "– Données manquantes\n",
    "– Données corrélées\n",
    "– Valeurs extrêmes\n",
    "– Statistiques descriptives (moyenne, écart-type, …)\n",
    "– Distribution des variables"
   ]
  },
  {
   "cell_type": "code",
   "execution_count": 5,
   "metadata": {},
   "outputs": [
    {
     "data": {
      "application/vnd.jupyter.widget-view+json": {
       "model_id": "85af44d353b444dcb89795e36ce0f2d3",
       "version_major": 2,
       "version_minor": 0
      },
      "text/plain": [
       "Summarize dataset:   0%|          | 0/5 [00:00<?, ?it/s]"
      ]
     },
     "metadata": {},
     "output_type": "display_data"
    },
    {
     "ename": "IndexError",
     "evalue": "only integers, slices (`:`), ellipsis (`...`), numpy.newaxis (`None`) and integer or boolean arrays are valid indices",
     "output_type": "error",
     "traceback": [
      "\u001b[0;31m---------------------------------------------------------------------------\u001b[0m",
      "\u001b[0;31mIndexError\u001b[0m                                Traceback (most recent call last)",
      "File \u001b[0;32m~/.local/lib/python3.8/site-packages/IPython/core/formatters.py:343\u001b[0m, in \u001b[0;36mBaseFormatter.__call__\u001b[0;34m(self, obj)\u001b[0m\n\u001b[1;32m    341\u001b[0m     method \u001b[38;5;241m=\u001b[39m get_real_method(obj, \u001b[38;5;28mself\u001b[39m\u001b[38;5;241m.\u001b[39mprint_method)\n\u001b[1;32m    342\u001b[0m     \u001b[38;5;28;01mif\u001b[39;00m method \u001b[38;5;129;01mis\u001b[39;00m \u001b[38;5;129;01mnot\u001b[39;00m \u001b[38;5;28;01mNone\u001b[39;00m:\n\u001b[0;32m--> 343\u001b[0m         \u001b[38;5;28;01mreturn\u001b[39;00m \u001b[43mmethod\u001b[49m\u001b[43m(\u001b[49m\u001b[43m)\u001b[49m\n\u001b[1;32m    344\u001b[0m     \u001b[38;5;28;01mreturn\u001b[39;00m \u001b[38;5;28;01mNone\u001b[39;00m\n\u001b[1;32m    345\u001b[0m \u001b[38;5;28;01melse\u001b[39;00m:\n",
      "File \u001b[0;32m~/.local/lib/python3.8/site-packages/pandas_profiling/profile_report.py:418\u001b[0m, in \u001b[0;36mProfileReport._repr_html_\u001b[0;34m(self)\u001b[0m\n\u001b[1;32m    416\u001b[0m \u001b[38;5;28;01mdef\u001b[39;00m \u001b[38;5;21m_repr_html_\u001b[39m(\u001b[38;5;28mself\u001b[39m) \u001b[38;5;241m-\u001b[39m\u001b[38;5;241m>\u001b[39m \u001b[38;5;28;01mNone\u001b[39;00m:\n\u001b[1;32m    417\u001b[0m     \u001b[38;5;124;03m\"\"\"The ipython notebook widgets user interface gets called by the jupyter notebook.\"\"\"\u001b[39;00m\n\u001b[0;32m--> 418\u001b[0m     \u001b[38;5;28;43mself\u001b[39;49m\u001b[38;5;241;43m.\u001b[39;49m\u001b[43mto_notebook_iframe\u001b[49m\u001b[43m(\u001b[49m\u001b[43m)\u001b[49m\n",
      "File \u001b[0;32m~/.local/lib/python3.8/site-packages/pandas_profiling/profile_report.py:398\u001b[0m, in \u001b[0;36mProfileReport.to_notebook_iframe\u001b[0;34m(self)\u001b[0m\n\u001b[1;32m    396\u001b[0m \u001b[38;5;28;01mwith\u001b[39;00m warnings\u001b[38;5;241m.\u001b[39mcatch_warnings():\n\u001b[1;32m    397\u001b[0m     warnings\u001b[38;5;241m.\u001b[39msimplefilter(\u001b[38;5;124m\"\u001b[39m\u001b[38;5;124mignore\u001b[39m\u001b[38;5;124m\"\u001b[39m)\n\u001b[0;32m--> 398\u001b[0m     display(\u001b[43mget_notebook_iframe\u001b[49m\u001b[43m(\u001b[49m\u001b[38;5;28;43mself\u001b[39;49m\u001b[38;5;241;43m.\u001b[39;49m\u001b[43mconfig\u001b[49m\u001b[43m,\u001b[49m\u001b[43m \u001b[49m\u001b[38;5;28;43mself\u001b[39;49m\u001b[43m)\u001b[49m)\n",
      "File \u001b[0;32m~/.local/lib/python3.8/site-packages/pandas_profiling/report/presentation/flavours/widget/notebook.py:75\u001b[0m, in \u001b[0;36mget_notebook_iframe\u001b[0;34m(config, profile)\u001b[0m\n\u001b[1;32m     73\u001b[0m     output \u001b[38;5;241m=\u001b[39m get_notebook_iframe_src(config, profile)\n\u001b[1;32m     74\u001b[0m \u001b[38;5;28;01melif\u001b[39;00m attribute \u001b[38;5;241m==\u001b[39m IframeAttribute\u001b[38;5;241m.\u001b[39msrcdoc:\n\u001b[0;32m---> 75\u001b[0m     output \u001b[38;5;241m=\u001b[39m \u001b[43mget_notebook_iframe_srcdoc\u001b[49m\u001b[43m(\u001b[49m\u001b[43mconfig\u001b[49m\u001b[43m,\u001b[49m\u001b[43m \u001b[49m\u001b[43mprofile\u001b[49m\u001b[43m)\u001b[49m\n\u001b[1;32m     76\u001b[0m \u001b[38;5;28;01melse\u001b[39;00m:\n\u001b[1;32m     77\u001b[0m     \u001b[38;5;28;01mraise\u001b[39;00m \u001b[38;5;167;01mValueError\u001b[39;00m(\n\u001b[1;32m     78\u001b[0m         \u001b[38;5;124mf\u001b[39m\u001b[38;5;124m'\u001b[39m\u001b[38;5;124mIframe Attribute can be \u001b[39m\u001b[38;5;124m\"\u001b[39m\u001b[38;5;124msrc\u001b[39m\u001b[38;5;124m\"\u001b[39m\u001b[38;5;124m or \u001b[39m\u001b[38;5;124m\"\u001b[39m\u001b[38;5;124msrcdoc\u001b[39m\u001b[38;5;124m\"\u001b[39m\u001b[38;5;124m (current: \u001b[39m\u001b[38;5;132;01m{\u001b[39;00mattribute\u001b[38;5;132;01m}\u001b[39;00m\u001b[38;5;124m).\u001b[39m\u001b[38;5;124m'\u001b[39m\n\u001b[1;32m     79\u001b[0m     )\n",
      "File \u001b[0;32m~/.local/lib/python3.8/site-packages/pandas_profiling/report/presentation/flavours/widget/notebook.py:29\u001b[0m, in \u001b[0;36mget_notebook_iframe_srcdoc\u001b[0;34m(config, profile)\u001b[0m\n\u001b[1;32m     27\u001b[0m width \u001b[38;5;241m=\u001b[39m config\u001b[38;5;241m.\u001b[39mnotebook\u001b[38;5;241m.\u001b[39miframe\u001b[38;5;241m.\u001b[39mwidth\n\u001b[1;32m     28\u001b[0m height \u001b[38;5;241m=\u001b[39m config\u001b[38;5;241m.\u001b[39mnotebook\u001b[38;5;241m.\u001b[39miframe\u001b[38;5;241m.\u001b[39mheight\n\u001b[0;32m---> 29\u001b[0m src \u001b[38;5;241m=\u001b[39m html\u001b[38;5;241m.\u001b[39mescape(\u001b[43mprofile\u001b[49m\u001b[38;5;241;43m.\u001b[39;49m\u001b[43mto_html\u001b[49m\u001b[43m(\u001b[49m\u001b[43m)\u001b[49m)\n\u001b[1;32m     31\u001b[0m iframe \u001b[38;5;241m=\u001b[39m \u001b[38;5;124mf\u001b[39m\u001b[38;5;124m'\u001b[39m\u001b[38;5;124m<iframe width=\u001b[39m\u001b[38;5;124m\"\u001b[39m\u001b[38;5;132;01m{\u001b[39;00mwidth\u001b[38;5;132;01m}\u001b[39;00m\u001b[38;5;124m\"\u001b[39m\u001b[38;5;124m height=\u001b[39m\u001b[38;5;124m\"\u001b[39m\u001b[38;5;132;01m{\u001b[39;00mheight\u001b[38;5;132;01m}\u001b[39;00m\u001b[38;5;124m\"\u001b[39m\u001b[38;5;124m srcdoc=\u001b[39m\u001b[38;5;124m\"\u001b[39m\u001b[38;5;132;01m{\u001b[39;00msrc\u001b[38;5;132;01m}\u001b[39;00m\u001b[38;5;124m\"\u001b[39m\u001b[38;5;124m frameborder=\u001b[39m\u001b[38;5;124m\"\u001b[39m\u001b[38;5;124m0\u001b[39m\u001b[38;5;124m\"\u001b[39m\u001b[38;5;124m allowfullscreen></iframe>\u001b[39m\u001b[38;5;124m'\u001b[39m\n\u001b[1;32m     33\u001b[0m \u001b[38;5;28;01mreturn\u001b[39;00m HTML(iframe)\n",
      "File \u001b[0;32m~/.local/lib/python3.8/site-packages/pandas_profiling/profile_report.py:368\u001b[0m, in \u001b[0;36mProfileReport.to_html\u001b[0;34m(self)\u001b[0m\n\u001b[1;32m    360\u001b[0m \u001b[38;5;28;01mdef\u001b[39;00m \u001b[38;5;21mto_html\u001b[39m(\u001b[38;5;28mself\u001b[39m) \u001b[38;5;241m-\u001b[39m\u001b[38;5;241m>\u001b[39m \u001b[38;5;28mstr\u001b[39m:\n\u001b[1;32m    361\u001b[0m     \u001b[38;5;124;03m\"\"\"Generate and return complete template as lengthy string\u001b[39;00m\n\u001b[1;32m    362\u001b[0m \u001b[38;5;124;03m        for using with frameworks.\u001b[39;00m\n\u001b[1;32m    363\u001b[0m \n\u001b[0;32m   (...)\u001b[0m\n\u001b[1;32m    366\u001b[0m \n\u001b[1;32m    367\u001b[0m \u001b[38;5;124;03m    \"\"\"\u001b[39;00m\n\u001b[0;32m--> 368\u001b[0m     \u001b[38;5;28;01mreturn\u001b[39;00m \u001b[38;5;28;43mself\u001b[39;49m\u001b[38;5;241;43m.\u001b[39;49m\u001b[43mhtml\u001b[49m\n",
      "File \u001b[0;32m~/.local/lib/python3.8/site-packages/pandas_profiling/profile_report.py:185\u001b[0m, in \u001b[0;36mProfileReport.html\u001b[0;34m(self)\u001b[0m\n\u001b[1;32m    182\u001b[0m \u001b[38;5;129m@property\u001b[39m\n\u001b[1;32m    183\u001b[0m \u001b[38;5;28;01mdef\u001b[39;00m \u001b[38;5;21mhtml\u001b[39m(\u001b[38;5;28mself\u001b[39m) \u001b[38;5;241m-\u001b[39m\u001b[38;5;241m>\u001b[39m \u001b[38;5;28mstr\u001b[39m:\n\u001b[1;32m    184\u001b[0m     \u001b[38;5;28;01mif\u001b[39;00m \u001b[38;5;28mself\u001b[39m\u001b[38;5;241m.\u001b[39m_html \u001b[38;5;129;01mis\u001b[39;00m \u001b[38;5;28;01mNone\u001b[39;00m:\n\u001b[0;32m--> 185\u001b[0m         \u001b[38;5;28mself\u001b[39m\u001b[38;5;241m.\u001b[39m_html \u001b[38;5;241m=\u001b[39m \u001b[38;5;28;43mself\u001b[39;49m\u001b[38;5;241;43m.\u001b[39;49m\u001b[43m_render_html\u001b[49m\u001b[43m(\u001b[49m\u001b[43m)\u001b[49m\n\u001b[1;32m    186\u001b[0m     \u001b[38;5;28;01mreturn\u001b[39;00m \u001b[38;5;28mself\u001b[39m\u001b[38;5;241m.\u001b[39m_html\n",
      "File \u001b[0;32m~/.local/lib/python3.8/site-packages/pandas_profiling/profile_report.py:287\u001b[0m, in \u001b[0;36mProfileReport._render_html\u001b[0;34m(self)\u001b[0m\n\u001b[1;32m    284\u001b[0m \u001b[38;5;28;01mdef\u001b[39;00m \u001b[38;5;21m_render_html\u001b[39m(\u001b[38;5;28mself\u001b[39m) \u001b[38;5;241m-\u001b[39m\u001b[38;5;241m>\u001b[39m \u001b[38;5;28mstr\u001b[39m:\n\u001b[1;32m    285\u001b[0m     \u001b[38;5;28;01mfrom\u001b[39;00m \u001b[38;5;21;01mpandas_profiling\u001b[39;00m\u001b[38;5;21;01m.\u001b[39;00m\u001b[38;5;21;01mreport\u001b[39;00m\u001b[38;5;21;01m.\u001b[39;00m\u001b[38;5;21;01mpresentation\u001b[39;00m\u001b[38;5;21;01m.\u001b[39;00m\u001b[38;5;21;01mflavours\u001b[39;00m \u001b[38;5;28;01mimport\u001b[39;00m HTMLReport\n\u001b[0;32m--> 287\u001b[0m     report \u001b[38;5;241m=\u001b[39m \u001b[38;5;28;43mself\u001b[39;49m\u001b[38;5;241;43m.\u001b[39;49m\u001b[43mreport\u001b[49m\n\u001b[1;32m    289\u001b[0m     \u001b[38;5;28;01mwith\u001b[39;00m tqdm(\n\u001b[1;32m    290\u001b[0m         total\u001b[38;5;241m=\u001b[39m\u001b[38;5;241m1\u001b[39m, desc\u001b[38;5;241m=\u001b[39m\u001b[38;5;124m\"\u001b[39m\u001b[38;5;124mRender HTML\u001b[39m\u001b[38;5;124m\"\u001b[39m, disable\u001b[38;5;241m=\u001b[39m\u001b[38;5;129;01mnot\u001b[39;00m \u001b[38;5;28mself\u001b[39m\u001b[38;5;241m.\u001b[39mconfig\u001b[38;5;241m.\u001b[39mprogress_bar\n\u001b[1;32m    291\u001b[0m     ) \u001b[38;5;28;01mas\u001b[39;00m pbar:\n\u001b[1;32m    292\u001b[0m         html \u001b[38;5;241m=\u001b[39m HTMLReport(copy\u001b[38;5;241m.\u001b[39mdeepcopy(report))\u001b[38;5;241m.\u001b[39mrender(\n\u001b[1;32m    293\u001b[0m             nav\u001b[38;5;241m=\u001b[39m\u001b[38;5;28mself\u001b[39m\u001b[38;5;241m.\u001b[39mconfig\u001b[38;5;241m.\u001b[39mhtml\u001b[38;5;241m.\u001b[39mnavbar_show,\n\u001b[1;32m    294\u001b[0m             offline\u001b[38;5;241m=\u001b[39m\u001b[38;5;28mself\u001b[39m\u001b[38;5;241m.\u001b[39mconfig\u001b[38;5;241m.\u001b[39mhtml\u001b[38;5;241m.\u001b[39muse_local_assets,\n\u001b[0;32m   (...)\u001b[0m\n\u001b[1;32m    302\u001b[0m             version\u001b[38;5;241m=\u001b[39m\u001b[38;5;28mself\u001b[39m\u001b[38;5;241m.\u001b[39mdescription_set[\u001b[38;5;124m\"\u001b[39m\u001b[38;5;124mpackage\u001b[39m\u001b[38;5;124m\"\u001b[39m][\u001b[38;5;124m\"\u001b[39m\u001b[38;5;124mpandas_profiling_version\u001b[39m\u001b[38;5;124m\"\u001b[39m],\n\u001b[1;32m    303\u001b[0m         )\n",
      "File \u001b[0;32m~/.local/lib/python3.8/site-packages/pandas_profiling/profile_report.py:179\u001b[0m, in \u001b[0;36mProfileReport.report\u001b[0;34m(self)\u001b[0m\n\u001b[1;32m    176\u001b[0m \u001b[38;5;129m@property\u001b[39m\n\u001b[1;32m    177\u001b[0m \u001b[38;5;28;01mdef\u001b[39;00m \u001b[38;5;21mreport\u001b[39m(\u001b[38;5;28mself\u001b[39m) \u001b[38;5;241m-\u001b[39m\u001b[38;5;241m>\u001b[39m Root:\n\u001b[1;32m    178\u001b[0m     \u001b[38;5;28;01mif\u001b[39;00m \u001b[38;5;28mself\u001b[39m\u001b[38;5;241m.\u001b[39m_report \u001b[38;5;129;01mis\u001b[39;00m \u001b[38;5;28;01mNone\u001b[39;00m:\n\u001b[0;32m--> 179\u001b[0m         \u001b[38;5;28mself\u001b[39m\u001b[38;5;241m.\u001b[39m_report \u001b[38;5;241m=\u001b[39m get_report_structure(\u001b[38;5;28mself\u001b[39m\u001b[38;5;241m.\u001b[39mconfig, \u001b[38;5;28;43mself\u001b[39;49m\u001b[38;5;241;43m.\u001b[39;49m\u001b[43mdescription_set\u001b[49m)\n\u001b[1;32m    180\u001b[0m     \u001b[38;5;28;01mreturn\u001b[39;00m \u001b[38;5;28mself\u001b[39m\u001b[38;5;241m.\u001b[39m_report\n",
      "File \u001b[0;32m~/.local/lib/python3.8/site-packages/pandas_profiling/profile_report.py:161\u001b[0m, in \u001b[0;36mProfileReport.description_set\u001b[0;34m(self)\u001b[0m\n\u001b[1;32m    158\u001b[0m \u001b[38;5;129m@property\u001b[39m\n\u001b[1;32m    159\u001b[0m \u001b[38;5;28;01mdef\u001b[39;00m \u001b[38;5;21mdescription_set\u001b[39m(\u001b[38;5;28mself\u001b[39m) \u001b[38;5;241m-\u001b[39m\u001b[38;5;241m>\u001b[39m Dict[\u001b[38;5;28mstr\u001b[39m, Any]:\n\u001b[1;32m    160\u001b[0m     \u001b[38;5;28;01mif\u001b[39;00m \u001b[38;5;28mself\u001b[39m\u001b[38;5;241m.\u001b[39m_description_set \u001b[38;5;129;01mis\u001b[39;00m \u001b[38;5;28;01mNone\u001b[39;00m:\n\u001b[0;32m--> 161\u001b[0m         \u001b[38;5;28mself\u001b[39m\u001b[38;5;241m.\u001b[39m_description_set \u001b[38;5;241m=\u001b[39m \u001b[43mdescribe_df\u001b[49m\u001b[43m(\u001b[49m\n\u001b[1;32m    162\u001b[0m \u001b[43m            \u001b[49m\u001b[38;5;28;43mself\u001b[39;49m\u001b[38;5;241;43m.\u001b[39;49m\u001b[43mconfig\u001b[49m\u001b[43m,\u001b[49m\n\u001b[1;32m    163\u001b[0m \u001b[43m            \u001b[49m\u001b[38;5;28;43mself\u001b[39;49m\u001b[38;5;241;43m.\u001b[39;49m\u001b[43mdf\u001b[49m\u001b[43m,\u001b[49m\n\u001b[1;32m    164\u001b[0m \u001b[43m            \u001b[49m\u001b[38;5;28;43mself\u001b[39;49m\u001b[38;5;241;43m.\u001b[39;49m\u001b[43msummarizer\u001b[49m\u001b[43m,\u001b[49m\n\u001b[1;32m    165\u001b[0m \u001b[43m            \u001b[49m\u001b[38;5;28;43mself\u001b[39;49m\u001b[38;5;241;43m.\u001b[39;49m\u001b[43mtypeset\u001b[49m\u001b[43m,\u001b[49m\n\u001b[1;32m    166\u001b[0m \u001b[43m            \u001b[49m\u001b[38;5;28;43mself\u001b[39;49m\u001b[38;5;241;43m.\u001b[39;49m\u001b[43m_sample\u001b[49m\u001b[43m,\u001b[49m\n\u001b[1;32m    167\u001b[0m \u001b[43m        \u001b[49m\u001b[43m)\u001b[49m\n\u001b[1;32m    168\u001b[0m     \u001b[38;5;28;01mreturn\u001b[39;00m \u001b[38;5;28mself\u001b[39m\u001b[38;5;241m.\u001b[39m_description_set\n",
      "File \u001b[0;32m~/.local/lib/python3.8/site-packages/pandas_profiling/model/describe.py:71\u001b[0m, in \u001b[0;36mdescribe\u001b[0;34m(config, df, summarizer, typeset, sample)\u001b[0m\n\u001b[1;32m     69\u001b[0m \u001b[38;5;66;03m# Variable-specific\u001b[39;00m\n\u001b[1;32m     70\u001b[0m pbar\u001b[38;5;241m.\u001b[39mtotal \u001b[38;5;241m+\u001b[39m\u001b[38;5;241m=\u001b[39m \u001b[38;5;28mlen\u001b[39m(df\u001b[38;5;241m.\u001b[39mcolumns)\n\u001b[0;32m---> 71\u001b[0m series_description \u001b[38;5;241m=\u001b[39m \u001b[43mget_series_descriptions\u001b[49m\u001b[43m(\u001b[49m\n\u001b[1;32m     72\u001b[0m \u001b[43m    \u001b[49m\u001b[43mconfig\u001b[49m\u001b[43m,\u001b[49m\u001b[43m \u001b[49m\u001b[43mdf\u001b[49m\u001b[43m,\u001b[49m\u001b[43m \u001b[49m\u001b[43msummarizer\u001b[49m\u001b[43m,\u001b[49m\u001b[43m \u001b[49m\u001b[43mtypeset\u001b[49m\u001b[43m,\u001b[49m\u001b[43m \u001b[49m\u001b[43mpbar\u001b[49m\n\u001b[1;32m     73\u001b[0m \u001b[43m\u001b[49m\u001b[43m)\u001b[49m\n\u001b[1;32m     75\u001b[0m pbar\u001b[38;5;241m.\u001b[39mset_postfix_str(\u001b[38;5;124m\"\u001b[39m\u001b[38;5;124mGet variable types\u001b[39m\u001b[38;5;124m\"\u001b[39m)\n\u001b[1;32m     76\u001b[0m pbar\u001b[38;5;241m.\u001b[39mtotal \u001b[38;5;241m+\u001b[39m\u001b[38;5;241m=\u001b[39m \u001b[38;5;241m1\u001b[39m\n",
      "File \u001b[0;32m~/.local/lib/python3.8/site-packages/multimethod/__init__.py:300\u001b[0m, in \u001b[0;36mmultimethod.__call__\u001b[0;34m(self, *args, **kwargs)\u001b[0m\n\u001b[1;32m    298\u001b[0m func \u001b[38;5;241m=\u001b[39m \u001b[38;5;28mself\u001b[39m[\u001b[38;5;28mtuple\u001b[39m(func(arg) \u001b[38;5;28;01mfor\u001b[39;00m func, arg \u001b[38;5;129;01min\u001b[39;00m \u001b[38;5;28mzip\u001b[39m(\u001b[38;5;28mself\u001b[39m\u001b[38;5;241m.\u001b[39mtype_checkers, args))]\n\u001b[1;32m    299\u001b[0m \u001b[38;5;28;01mtry\u001b[39;00m:\n\u001b[0;32m--> 300\u001b[0m     \u001b[38;5;28;01mreturn\u001b[39;00m \u001b[43mfunc\u001b[49m\u001b[43m(\u001b[49m\u001b[38;5;241;43m*\u001b[39;49m\u001b[43margs\u001b[49m\u001b[43m,\u001b[49m\u001b[43m \u001b[49m\u001b[38;5;241;43m*\u001b[39;49m\u001b[38;5;241;43m*\u001b[39;49m\u001b[43mkwargs\u001b[49m\u001b[43m)\u001b[49m\n\u001b[1;32m    301\u001b[0m \u001b[38;5;28;01mexcept\u001b[39;00m \u001b[38;5;167;01mTypeError\u001b[39;00m \u001b[38;5;28;01mas\u001b[39;00m ex:\n\u001b[1;32m    302\u001b[0m     \u001b[38;5;28;01mraise\u001b[39;00m DispatchError(\u001b[38;5;124mf\u001b[39m\u001b[38;5;124m\"\u001b[39m\u001b[38;5;124mFunction \u001b[39m\u001b[38;5;132;01m{\u001b[39;00mfunc\u001b[38;5;241m.\u001b[39m\u001b[38;5;18m__code__\u001b[39m\u001b[38;5;132;01m}\u001b[39;00m\u001b[38;5;124m\"\u001b[39m) \u001b[38;5;28;01mfrom\u001b[39;00m \u001b[38;5;21;01mex\u001b[39;00m\n",
      "File \u001b[0;32m~/.local/lib/python3.8/site-packages/pandas_profiling/model/pandas/summary_pandas.py:92\u001b[0m, in \u001b[0;36mpandas_get_series_descriptions\u001b[0;34m(config, df, summarizer, typeset, pbar)\u001b[0m\n\u001b[1;32m     89\u001b[0m \u001b[38;5;28;01melse\u001b[39;00m:\n\u001b[1;32m     90\u001b[0m     \u001b[38;5;66;03m# TODO: use `Pool` for Linux-based systems\u001b[39;00m\n\u001b[1;32m     91\u001b[0m     \u001b[38;5;28;01mwith\u001b[39;00m multiprocessing\u001b[38;5;241m.\u001b[39mpool\u001b[38;5;241m.\u001b[39mThreadPool(pool_size) \u001b[38;5;28;01mas\u001b[39;00m executor:\n\u001b[0;32m---> 92\u001b[0m         \u001b[38;5;28;01mfor\u001b[39;00m i, (column, description) \u001b[38;5;129;01min\u001b[39;00m \u001b[38;5;28menumerate\u001b[39m(\n\u001b[1;32m     93\u001b[0m             executor\u001b[38;5;241m.\u001b[39mimap_unordered(multiprocess_1d, args)\n\u001b[1;32m     94\u001b[0m         ):\n\u001b[1;32m     95\u001b[0m             pbar\u001b[38;5;241m.\u001b[39mset_postfix_str(\u001b[38;5;124mf\u001b[39m\u001b[38;5;124m\"\u001b[39m\u001b[38;5;124mDescribe variable:\u001b[39m\u001b[38;5;132;01m{\u001b[39;00mcolumn\u001b[38;5;132;01m}\u001b[39;00m\u001b[38;5;124m\"\u001b[39m)\n\u001b[1;32m     96\u001b[0m             series_description[column] \u001b[38;5;241m=\u001b[39m description\n",
      "File \u001b[0;32m/usr/lib/python3.8/multiprocessing/pool.py:868\u001b[0m, in \u001b[0;36mIMapIterator.next\u001b[0;34m(self, timeout)\u001b[0m\n\u001b[1;32m    866\u001b[0m \u001b[38;5;28;01mif\u001b[39;00m success:\n\u001b[1;32m    867\u001b[0m     \u001b[38;5;28;01mreturn\u001b[39;00m value\n\u001b[0;32m--> 868\u001b[0m \u001b[38;5;28;01mraise\u001b[39;00m value\n",
      "File \u001b[0;32m/usr/lib/python3.8/multiprocessing/pool.py:125\u001b[0m, in \u001b[0;36mworker\u001b[0;34m(inqueue, outqueue, initializer, initargs, maxtasks, wrap_exception)\u001b[0m\n\u001b[1;32m    123\u001b[0m job, i, func, args, kwds \u001b[38;5;241m=\u001b[39m task\n\u001b[1;32m    124\u001b[0m \u001b[38;5;28;01mtry\u001b[39;00m:\n\u001b[0;32m--> 125\u001b[0m     result \u001b[38;5;241m=\u001b[39m (\u001b[38;5;28;01mTrue\u001b[39;00m, \u001b[43mfunc\u001b[49m\u001b[43m(\u001b[49m\u001b[38;5;241;43m*\u001b[39;49m\u001b[43margs\u001b[49m\u001b[43m,\u001b[49m\u001b[43m \u001b[49m\u001b[38;5;241;43m*\u001b[39;49m\u001b[38;5;241;43m*\u001b[39;49m\u001b[43mkwds\u001b[49m\u001b[43m)\u001b[49m)\n\u001b[1;32m    126\u001b[0m \u001b[38;5;28;01mexcept\u001b[39;00m \u001b[38;5;167;01mException\u001b[39;00m \u001b[38;5;28;01mas\u001b[39;00m e:\n\u001b[1;32m    127\u001b[0m     \u001b[38;5;28;01mif\u001b[39;00m wrap_exception \u001b[38;5;129;01mand\u001b[39;00m func \u001b[38;5;129;01mis\u001b[39;00m \u001b[38;5;129;01mnot\u001b[39;00m _helper_reraises_exception:\n",
      "File \u001b[0;32m~/.local/lib/python3.8/site-packages/pandas_profiling/model/pandas/summary_pandas.py:72\u001b[0m, in \u001b[0;36mpandas_get_series_descriptions.<locals>.multiprocess_1d\u001b[0;34m(args)\u001b[0m\n\u001b[1;32m     62\u001b[0m \u001b[38;5;124;03m\"\"\"Wrapper to process series in parallel.\u001b[39;00m\n\u001b[1;32m     63\u001b[0m \n\u001b[1;32m     64\u001b[0m \u001b[38;5;124;03mArgs:\u001b[39;00m\n\u001b[0;32m   (...)\u001b[0m\n\u001b[1;32m     69\u001b[0m \u001b[38;5;124;03m    A tuple with column and the series description.\u001b[39;00m\n\u001b[1;32m     70\u001b[0m \u001b[38;5;124;03m\"\"\"\u001b[39;00m\n\u001b[1;32m     71\u001b[0m column, series \u001b[38;5;241m=\u001b[39m args\n\u001b[0;32m---> 72\u001b[0m \u001b[38;5;28;01mreturn\u001b[39;00m column, \u001b[43mdescribe_1d\u001b[49m\u001b[43m(\u001b[49m\u001b[43mconfig\u001b[49m\u001b[43m,\u001b[49m\u001b[43m \u001b[49m\u001b[43mseries\u001b[49m\u001b[43m,\u001b[49m\u001b[43m \u001b[49m\u001b[43msummarizer\u001b[49m\u001b[43m,\u001b[49m\u001b[43m \u001b[49m\u001b[43mtypeset\u001b[49m\u001b[43m)\u001b[49m\n",
      "File \u001b[0;32m~/.local/lib/python3.8/site-packages/multimethod/__init__.py:300\u001b[0m, in \u001b[0;36mmultimethod.__call__\u001b[0;34m(self, *args, **kwargs)\u001b[0m\n\u001b[1;32m    298\u001b[0m func \u001b[38;5;241m=\u001b[39m \u001b[38;5;28mself\u001b[39m[\u001b[38;5;28mtuple\u001b[39m(func(arg) \u001b[38;5;28;01mfor\u001b[39;00m func, arg \u001b[38;5;129;01min\u001b[39;00m \u001b[38;5;28mzip\u001b[39m(\u001b[38;5;28mself\u001b[39m\u001b[38;5;241m.\u001b[39mtype_checkers, args))]\n\u001b[1;32m    299\u001b[0m \u001b[38;5;28;01mtry\u001b[39;00m:\n\u001b[0;32m--> 300\u001b[0m     \u001b[38;5;28;01mreturn\u001b[39;00m \u001b[43mfunc\u001b[49m\u001b[43m(\u001b[49m\u001b[38;5;241;43m*\u001b[39;49m\u001b[43margs\u001b[49m\u001b[43m,\u001b[49m\u001b[43m \u001b[49m\u001b[38;5;241;43m*\u001b[39;49m\u001b[38;5;241;43m*\u001b[39;49m\u001b[43mkwargs\u001b[49m\u001b[43m)\u001b[49m\n\u001b[1;32m    301\u001b[0m \u001b[38;5;28;01mexcept\u001b[39;00m \u001b[38;5;167;01mTypeError\u001b[39;00m \u001b[38;5;28;01mas\u001b[39;00m ex:\n\u001b[1;32m    302\u001b[0m     \u001b[38;5;28;01mraise\u001b[39;00m DispatchError(\u001b[38;5;124mf\u001b[39m\u001b[38;5;124m\"\u001b[39m\u001b[38;5;124mFunction \u001b[39m\u001b[38;5;132;01m{\u001b[39;00mfunc\u001b[38;5;241m.\u001b[39m\u001b[38;5;18m__code__\u001b[39m\u001b[38;5;132;01m}\u001b[39;00m\u001b[38;5;124m\"\u001b[39m) \u001b[38;5;28;01mfrom\u001b[39;00m \u001b[38;5;21;01mex\u001b[39;00m\n",
      "File \u001b[0;32m~/.local/lib/python3.8/site-packages/pandas_profiling/model/pandas/summary_pandas.py:50\u001b[0m, in \u001b[0;36mpandas_describe_1d\u001b[0;34m(config, series, summarizer, typeset)\u001b[0m\n\u001b[1;32m     45\u001b[0m \u001b[38;5;28;01melse\u001b[39;00m:\n\u001b[1;32m     46\u001b[0m     \u001b[38;5;66;03m# Detect variable types from pandas dataframe (df.dtypes).\u001b[39;00m\n\u001b[1;32m     47\u001b[0m     \u001b[38;5;66;03m# [new dtypes, changed using `astype` function are now considered]\u001b[39;00m\n\u001b[1;32m     48\u001b[0m     vtype \u001b[38;5;241m=\u001b[39m typeset\u001b[38;5;241m.\u001b[39mdetect_type(series)\n\u001b[0;32m---> 50\u001b[0m \u001b[38;5;28;01mreturn\u001b[39;00m \u001b[43msummarizer\u001b[49m\u001b[38;5;241;43m.\u001b[39;49m\u001b[43msummarize\u001b[49m\u001b[43m(\u001b[49m\u001b[43mconfig\u001b[49m\u001b[43m,\u001b[49m\u001b[43m \u001b[49m\u001b[43mseries\u001b[49m\u001b[43m,\u001b[49m\u001b[43m \u001b[49m\u001b[43mdtype\u001b[49m\u001b[38;5;241;43m=\u001b[39;49m\u001b[43mvtype\u001b[49m\u001b[43m)\u001b[49m\n",
      "File \u001b[0;32m~/.local/lib/python3.8/site-packages/pandas_profiling/model/summarizer.py:37\u001b[0m, in \u001b[0;36mBaseSummarizer.summarize\u001b[0;34m(self, config, series, dtype)\u001b[0m\n\u001b[1;32m     29\u001b[0m \u001b[38;5;28;01mdef\u001b[39;00m \u001b[38;5;21msummarize\u001b[39m(\n\u001b[1;32m     30\u001b[0m     \u001b[38;5;28mself\u001b[39m, config: Settings, series: pd\u001b[38;5;241m.\u001b[39mSeries, dtype: Type[VisionsBaseType]\n\u001b[1;32m     31\u001b[0m ) \u001b[38;5;241m-\u001b[39m\u001b[38;5;241m>\u001b[39m \u001b[38;5;28mdict\u001b[39m:\n\u001b[1;32m     32\u001b[0m     \u001b[38;5;124;03m\"\"\"\u001b[39;00m\n\u001b[1;32m     33\u001b[0m \n\u001b[1;32m     34\u001b[0m \u001b[38;5;124;03m    Returns:\u001b[39;00m\n\u001b[1;32m     35\u001b[0m \u001b[38;5;124;03m        object:\u001b[39;00m\n\u001b[1;32m     36\u001b[0m \u001b[38;5;124;03m    \"\"\"\u001b[39;00m\n\u001b[0;32m---> 37\u001b[0m     _, _, summary \u001b[38;5;241m=\u001b[39m \u001b[38;5;28;43mself\u001b[39;49m\u001b[38;5;241;43m.\u001b[39;49m\u001b[43mhandle\u001b[49m\u001b[43m(\u001b[49m\u001b[38;5;28;43mstr\u001b[39;49m\u001b[43m(\u001b[49m\u001b[43mdtype\u001b[49m\u001b[43m)\u001b[49m\u001b[43m,\u001b[49m\u001b[43m \u001b[49m\u001b[43mconfig\u001b[49m\u001b[43m,\u001b[49m\u001b[43m \u001b[49m\u001b[43mseries\u001b[49m\u001b[43m,\u001b[49m\u001b[43m \u001b[49m\u001b[43m{\u001b[49m\u001b[38;5;124;43m\"\u001b[39;49m\u001b[38;5;124;43mtype\u001b[39;49m\u001b[38;5;124;43m\"\u001b[39;49m\u001b[43m:\u001b[49m\u001b[43m \u001b[49m\u001b[38;5;28;43mstr\u001b[39;49m\u001b[43m(\u001b[49m\u001b[43mdtype\u001b[49m\u001b[43m)\u001b[49m\u001b[43m}\u001b[49m\u001b[43m)\u001b[49m\n\u001b[1;32m     38\u001b[0m     \u001b[38;5;28;01mreturn\u001b[39;00m summary\n",
      "File \u001b[0;32m~/.local/lib/python3.8/site-packages/pandas_profiling/model/handler.py:62\u001b[0m, in \u001b[0;36mHandler.handle\u001b[0;34m(self, dtype, *args, **kwargs)\u001b[0m\n\u001b[1;32m     60\u001b[0m funcs \u001b[38;5;241m=\u001b[39m \u001b[38;5;28mself\u001b[39m\u001b[38;5;241m.\u001b[39mmapping\u001b[38;5;241m.\u001b[39mget(dtype, [])\n\u001b[1;32m     61\u001b[0m op \u001b[38;5;241m=\u001b[39m compose(funcs)\n\u001b[0;32m---> 62\u001b[0m \u001b[38;5;28;01mreturn\u001b[39;00m \u001b[43mop\u001b[49m\u001b[43m(\u001b[49m\u001b[38;5;241;43m*\u001b[39;49m\u001b[43margs\u001b[49m\u001b[43m)\u001b[49m\n",
      "File \u001b[0;32m~/.local/lib/python3.8/site-packages/pandas_profiling/model/handler.py:21\u001b[0m, in \u001b[0;36mcompose.<locals>.func.<locals>.func2\u001b[0;34m(*x)\u001b[0m\n\u001b[1;32m     19\u001b[0m     \u001b[38;5;28;01mreturn\u001b[39;00m f(\u001b[38;5;241m*\u001b[39mx)\n\u001b[1;32m     20\u001b[0m \u001b[38;5;28;01melse\u001b[39;00m:\n\u001b[0;32m---> 21\u001b[0m     \u001b[38;5;28;01mreturn\u001b[39;00m \u001b[43mf\u001b[49m\u001b[43m(\u001b[49m\u001b[38;5;241;43m*\u001b[39;49m\u001b[43mres\u001b[49m\u001b[43m)\u001b[49m\n",
      "File \u001b[0;32m~/.local/lib/python3.8/site-packages/pandas_profiling/model/handler.py:21\u001b[0m, in \u001b[0;36mcompose.<locals>.func.<locals>.func2\u001b[0;34m(*x)\u001b[0m\n\u001b[1;32m     19\u001b[0m     \u001b[38;5;28;01mreturn\u001b[39;00m f(\u001b[38;5;241m*\u001b[39mx)\n\u001b[1;32m     20\u001b[0m \u001b[38;5;28;01melse\u001b[39;00m:\n\u001b[0;32m---> 21\u001b[0m     \u001b[38;5;28;01mreturn\u001b[39;00m \u001b[43mf\u001b[49m\u001b[43m(\u001b[49m\u001b[38;5;241;43m*\u001b[39;49m\u001b[43mres\u001b[49m\u001b[43m)\u001b[49m\n",
      "File \u001b[0;32m~/.local/lib/python3.8/site-packages/pandas_profiling/model/handler.py:21\u001b[0m, in \u001b[0;36mcompose.<locals>.func.<locals>.func2\u001b[0;34m(*x)\u001b[0m\n\u001b[1;32m     19\u001b[0m     \u001b[38;5;28;01mreturn\u001b[39;00m f(\u001b[38;5;241m*\u001b[39mx)\n\u001b[1;32m     20\u001b[0m \u001b[38;5;28;01melse\u001b[39;00m:\n\u001b[0;32m---> 21\u001b[0m     \u001b[38;5;28;01mreturn\u001b[39;00m \u001b[43mf\u001b[49m\u001b[43m(\u001b[49m\u001b[38;5;241;43m*\u001b[39;49m\u001b[43mres\u001b[49m\u001b[43m)\u001b[49m\n",
      "File \u001b[0;32m~/.local/lib/python3.8/site-packages/pandas_profiling/model/handler.py:17\u001b[0m, in \u001b[0;36mcompose.<locals>.func.<locals>.func2\u001b[0;34m(*x)\u001b[0m\n\u001b[1;32m     16\u001b[0m \u001b[38;5;28;01mdef\u001b[39;00m \u001b[38;5;21mfunc2\u001b[39m(\u001b[38;5;241m*\u001b[39mx) \u001b[38;5;241m-\u001b[39m\u001b[38;5;241m>\u001b[39m Any:\n\u001b[0;32m---> 17\u001b[0m     res \u001b[38;5;241m=\u001b[39m \u001b[43mg\u001b[49m\u001b[43m(\u001b[49m\u001b[38;5;241;43m*\u001b[39;49m\u001b[43mx\u001b[49m\u001b[43m)\u001b[49m\n\u001b[1;32m     18\u001b[0m     \u001b[38;5;28;01mif\u001b[39;00m \u001b[38;5;28mtype\u001b[39m(res) \u001b[38;5;241m==\u001b[39m \u001b[38;5;28mbool\u001b[39m:\n\u001b[1;32m     19\u001b[0m         \u001b[38;5;28;01mreturn\u001b[39;00m f(\u001b[38;5;241m*\u001b[39mx)\n",
      "File \u001b[0;32m~/.local/lib/python3.8/site-packages/multimethod/__init__.py:300\u001b[0m, in \u001b[0;36mmultimethod.__call__\u001b[0;34m(self, *args, **kwargs)\u001b[0m\n\u001b[1;32m    298\u001b[0m func \u001b[38;5;241m=\u001b[39m \u001b[38;5;28mself\u001b[39m[\u001b[38;5;28mtuple\u001b[39m(func(arg) \u001b[38;5;28;01mfor\u001b[39;00m func, arg \u001b[38;5;129;01min\u001b[39;00m \u001b[38;5;28mzip\u001b[39m(\u001b[38;5;28mself\u001b[39m\u001b[38;5;241m.\u001b[39mtype_checkers, args))]\n\u001b[1;32m    299\u001b[0m \u001b[38;5;28;01mtry\u001b[39;00m:\n\u001b[0;32m--> 300\u001b[0m     \u001b[38;5;28;01mreturn\u001b[39;00m \u001b[43mfunc\u001b[49m\u001b[43m(\u001b[49m\u001b[38;5;241;43m*\u001b[39;49m\u001b[43margs\u001b[49m\u001b[43m,\u001b[49m\u001b[43m \u001b[49m\u001b[38;5;241;43m*\u001b[39;49m\u001b[38;5;241;43m*\u001b[39;49m\u001b[43mkwargs\u001b[49m\u001b[43m)\u001b[49m\n\u001b[1;32m    301\u001b[0m \u001b[38;5;28;01mexcept\u001b[39;00m \u001b[38;5;167;01mTypeError\u001b[39;00m \u001b[38;5;28;01mas\u001b[39;00m ex:\n\u001b[1;32m    302\u001b[0m     \u001b[38;5;28;01mraise\u001b[39;00m DispatchError(\u001b[38;5;124mf\u001b[39m\u001b[38;5;124m\"\u001b[39m\u001b[38;5;124mFunction \u001b[39m\u001b[38;5;132;01m{\u001b[39;00mfunc\u001b[38;5;241m.\u001b[39m\u001b[38;5;18m__code__\u001b[39m\u001b[38;5;132;01m}\u001b[39;00m\u001b[38;5;124m\"\u001b[39m) \u001b[38;5;28;01mfrom\u001b[39;00m \u001b[38;5;21;01mex\u001b[39;00m\n",
      "File \u001b[0;32m~/.local/lib/python3.8/site-packages/pandas_profiling/model/summary_algorithms.py:65\u001b[0m, in \u001b[0;36mseries_hashable.<locals>.inner\u001b[0;34m(config, series, summary)\u001b[0m\n\u001b[1;32m     63\u001b[0m \u001b[38;5;28;01mif\u001b[39;00m \u001b[38;5;129;01mnot\u001b[39;00m summary[\u001b[38;5;124m\"\u001b[39m\u001b[38;5;124mhashable\u001b[39m\u001b[38;5;124m\"\u001b[39m]:\n\u001b[1;32m     64\u001b[0m     \u001b[38;5;28;01mreturn\u001b[39;00m config, series, summary\n\u001b[0;32m---> 65\u001b[0m \u001b[38;5;28;01mreturn\u001b[39;00m \u001b[43mfn\u001b[49m\u001b[43m(\u001b[49m\u001b[43mconfig\u001b[49m\u001b[43m,\u001b[49m\u001b[43m \u001b[49m\u001b[43mseries\u001b[49m\u001b[43m,\u001b[49m\u001b[43m \u001b[49m\u001b[43msummary\u001b[49m\u001b[43m)\u001b[49m\n",
      "File \u001b[0;32m~/.local/lib/python3.8/site-packages/pandas_profiling/model/summary_algorithms.py:82\u001b[0m, in \u001b[0;36mseries_handle_nulls.<locals>.inner\u001b[0;34m(config, series, summary)\u001b[0m\n\u001b[1;32m     79\u001b[0m \u001b[38;5;28;01mif\u001b[39;00m series\u001b[38;5;241m.\u001b[39mhasnans:\n\u001b[1;32m     80\u001b[0m     series \u001b[38;5;241m=\u001b[39m series\u001b[38;5;241m.\u001b[39mdropna()\n\u001b[0;32m---> 82\u001b[0m \u001b[38;5;28;01mreturn\u001b[39;00m \u001b[43mfn\u001b[49m\u001b[43m(\u001b[49m\u001b[43mconfig\u001b[49m\u001b[43m,\u001b[49m\u001b[43m \u001b[49m\u001b[43mseries\u001b[49m\u001b[43m,\u001b[49m\u001b[43m \u001b[49m\u001b[43msummary\u001b[49m\u001b[43m)\u001b[49m\n",
      "File \u001b[0;32m~/.local/lib/python3.8/site-packages/pandas_profiling/model/pandas/describe_categorical_pandas.py:205\u001b[0m, in \u001b[0;36mpandas_describe_categorical_1d\u001b[0;34m(config, series, summary)\u001b[0m\n\u001b[1;32m    202\u001b[0m     summary[\u001b[38;5;124m\"\u001b[39m\u001b[38;5;124mchi_squared\u001b[39m\u001b[38;5;124m\"\u001b[39m] \u001b[38;5;241m=\u001b[39m chi_square(histogram\u001b[38;5;241m=\u001b[39mvalue_counts\u001b[38;5;241m.\u001b[39mvalues)\n\u001b[1;32m    204\u001b[0m \u001b[38;5;28;01mif\u001b[39;00m config\u001b[38;5;241m.\u001b[39mvars\u001b[38;5;241m.\u001b[39mcat\u001b[38;5;241m.\u001b[39mlength:\n\u001b[0;32m--> 205\u001b[0m     summary\u001b[38;5;241m.\u001b[39mupdate(\u001b[43mlength_summary_vc\u001b[49m\u001b[43m(\u001b[49m\u001b[43mvalue_counts\u001b[49m\u001b[43m)\u001b[49m)\n\u001b[1;32m    206\u001b[0m     summary\u001b[38;5;241m.\u001b[39mupdate(\n\u001b[1;32m    207\u001b[0m         histogram_compute(\n\u001b[1;32m    208\u001b[0m             config,\n\u001b[0;32m   (...)\u001b[0m\n\u001b[1;32m    213\u001b[0m         )\n\u001b[1;32m    214\u001b[0m     )\n\u001b[1;32m    216\u001b[0m \u001b[38;5;28;01mif\u001b[39;00m config\u001b[38;5;241m.\u001b[39mvars\u001b[38;5;241m.\u001b[39mcat\u001b[38;5;241m.\u001b[39mcharacters:\n",
      "File \u001b[0;32m~/.local/lib/python3.8/site-packages/pandas_profiling/model/pandas/describe_categorical_pandas.py:162\u001b[0m, in \u001b[0;36mlength_summary_vc\u001b[0;34m(vc)\u001b[0m\n\u001b[1;32m    156\u001b[0m length_counts \u001b[38;5;241m=\u001b[39m length_counts\u001b[38;5;241m.\u001b[39mgroupby(level\u001b[38;5;241m=\u001b[39m\u001b[38;5;241m0\u001b[39m, sort\u001b[38;5;241m=\u001b[39m\u001b[38;5;28;01mFalse\u001b[39;00m)\u001b[38;5;241m.\u001b[39msum()\n\u001b[1;32m    157\u001b[0m length_counts \u001b[38;5;241m=\u001b[39m length_counts\u001b[38;5;241m.\u001b[39msort_values(ascending\u001b[38;5;241m=\u001b[39m\u001b[38;5;28;01mFalse\u001b[39;00m)\n\u001b[1;32m    159\u001b[0m summary \u001b[38;5;241m=\u001b[39m {\n\u001b[1;32m    160\u001b[0m     \u001b[38;5;124m\"\u001b[39m\u001b[38;5;124mmax_length\u001b[39m\u001b[38;5;124m\"\u001b[39m: np\u001b[38;5;241m.\u001b[39mmax(length_counts\u001b[38;5;241m.\u001b[39mindex),\n\u001b[1;32m    161\u001b[0m     \u001b[38;5;124m\"\u001b[39m\u001b[38;5;124mmean_length\u001b[39m\u001b[38;5;124m\"\u001b[39m: np\u001b[38;5;241m.\u001b[39maverage(length_counts\u001b[38;5;241m.\u001b[39mindex, weights\u001b[38;5;241m=\u001b[39mlength_counts\u001b[38;5;241m.\u001b[39mvalues),\n\u001b[0;32m--> 162\u001b[0m     \u001b[38;5;124m\"\u001b[39m\u001b[38;5;124mmedian_length\u001b[39m\u001b[38;5;124m\"\u001b[39m: \u001b[43mweighted_median\u001b[49m\u001b[43m(\u001b[49m\n\u001b[1;32m    163\u001b[0m \u001b[43m        \u001b[49m\u001b[43mlength_counts\u001b[49m\u001b[38;5;241;43m.\u001b[39;49m\u001b[43mindex\u001b[49m\u001b[38;5;241;43m.\u001b[39;49m\u001b[43mvalues\u001b[49m\u001b[43m,\u001b[49m\u001b[43m \u001b[49m\u001b[43mweights\u001b[49m\u001b[38;5;241;43m=\u001b[39;49m\u001b[43mlength_counts\u001b[49m\u001b[38;5;241;43m.\u001b[39;49m\u001b[43mvalues\u001b[49m\n\u001b[1;32m    164\u001b[0m \u001b[43m    \u001b[49m\u001b[43m)\u001b[49m,\n\u001b[1;32m    165\u001b[0m     \u001b[38;5;124m\"\u001b[39m\u001b[38;5;124mmin_length\u001b[39m\u001b[38;5;124m\"\u001b[39m: np\u001b[38;5;241m.\u001b[39mmin(length_counts\u001b[38;5;241m.\u001b[39mindex),\n\u001b[1;32m    166\u001b[0m     \u001b[38;5;124m\"\u001b[39m\u001b[38;5;124mlength_histogram\u001b[39m\u001b[38;5;124m\"\u001b[39m: length_counts,\n\u001b[1;32m    167\u001b[0m }\n\u001b[1;32m    169\u001b[0m \u001b[38;5;28;01mreturn\u001b[39;00m summary\n",
      "File \u001b[0;32m~/.local/lib/python3.8/site-packages/pandas_profiling/model/pandas/utils_pandas.py:13\u001b[0m, in \u001b[0;36mweighted_median\u001b[0;34m(data, weights)\u001b[0m\n\u001b[1;32m     11\u001b[0m midpoint \u001b[38;5;241m=\u001b[39m \u001b[38;5;241m0.5\u001b[39m \u001b[38;5;241m*\u001b[39m \u001b[38;5;28msum\u001b[39m(s_weights)\n\u001b[1;32m     12\u001b[0m \u001b[38;5;28;01mif\u001b[39;00m \u001b[38;5;28many\u001b[39m(weights \u001b[38;5;241m>\u001b[39m midpoint):\n\u001b[0;32m---> 13\u001b[0m     w_median \u001b[38;5;241m=\u001b[39m (\u001b[43mdata\u001b[49m\u001b[43m[\u001b[49m\u001b[43mweights\u001b[49m\u001b[43m \u001b[49m\u001b[38;5;241;43m==\u001b[39;49m\u001b[43m \u001b[49m\u001b[43mnp\u001b[49m\u001b[38;5;241;43m.\u001b[39;49m\u001b[43mmax\u001b[49m\u001b[43m(\u001b[49m\u001b[43mweights\u001b[49m\u001b[43m)\u001b[49m\u001b[43m]\u001b[49m)[\u001b[38;5;241m0\u001b[39m]\n\u001b[1;32m     14\u001b[0m \u001b[38;5;28;01melse\u001b[39;00m:\n\u001b[1;32m     15\u001b[0m     cs_weights \u001b[38;5;241m=\u001b[39m np\u001b[38;5;241m.\u001b[39mcumsum(s_weights)\n",
      "\u001b[0;31mIndexError\u001b[0m: only integers, slices (`:`), ellipsis (`...`), numpy.newaxis (`None`) and integer or boolean arrays are valid indices"
     ]
    },
    {
     "data": {
      "text/plain": []
     },
     "execution_count": 5,
     "metadata": {},
     "output_type": "execute_result"
    }
   ],
   "source": [
    "pandas_profiling.ProfileReport(df)"
   ]
  },
  {
   "cell_type": "markdown",
   "metadata": {},
   "source": [
    "## Exploration et visualisation de données"
   ]
  },
  {
   "cell_type": "markdown",
   "metadata": {},
   "source": [
    "Analyse des corrélations"
   ]
  },
  {
   "cell_type": "code",
   "execution_count": 8,
   "metadata": {},
   "outputs": [
    {
     "data": {
      "text/plain": [
       "(<Figure size 2000x1500 with 1 Axes>, <AxesSubplot:>)"
      ]
     },
     "execution_count": 8,
     "metadata": {},
     "output_type": "execute_result"
    }
   ],
   "source": [
    "# Matrice des corrélations : \n",
    "cor = df.corr() \n",
    "plt.subplots(figsize=(20,15))\n"
   ]
  },
  {
   "cell_type": "markdown",
   "metadata": {},
   "source": [
    "## Data prep avant d’utiliser un Random Forest"
   ]
  },
  {
   "cell_type": "markdown",
   "metadata": {},
   "source": [
    "Suppression de '[O2] dans le milieu', 'Force appliquée (N.m)'\n",
    "\n",
    "A réfléchir : supprimer PREN qui a une forte correlation avec Mo et CCP"
   ]
  },
  {
   "cell_type": "code",
   "execution_count": 9,
   "metadata": {},
   "outputs": [],
   "source": [
    "# On met le nom de l'alliage en index\n",
    "pd.DataFrame.set_index(df, 'Nom Alliage',inplace=True)\n",
    "# On supprime les colonnes choisies\n",
    "df.drop(columns =['[O2] dans le milieu', 'Force appliquée (N.m)'],inplace=True)\n",
    "df\n",
    "\n",
    "# Nouvelle matrice des corrélations : \n",
    "cor = df.corr() \n",
    "plt.subplots(figsize=(20,15))\n",
    "sns.heatmap(cor, square = True, cmap=\"coolwarm\",annot=True)\n",
    "\n",
    "\n",
    "#On stocke la variable à prédire dans cible\n",
    "cible1 = np.array(df['CCT '])\n",
    "cible2 = np.array(df['PREN'])\n",
    "cible3 = np.array(df['E (GPa)'])\n",
    "cible4 = np.array(df['Vcorr (micromètre/an)'])\n",
    "cible6 = np.array(df['Prix (US$/kg)'])\n",
    "#On supprime cette variable du dataset\n",
    "df= df.drop('CCT ', axis = 1)\n",
    "df= df.drop('PREN', axis = 1)\n",
    "df= df.drop('E (GPa)', axis = 1)\n",
    "df= df.drop('Vcorr (micromètre/an)', axis = 1)\n",
    "df= df.drop('Prix (US$/kg)', axis = 1)\n",
    "#On conserve les noms de variable à part\n",
    "liste_variables = list(df.columns)\n",
    "\n",
    "\n",
    "#On convertit le dataset en array\n",
    "df = np.array(df)\n",
    "\n"
   ]
  },
  {
   "cell_type": "markdown",
   "metadata": {},
   "source": [
    "## Modélisation : Training Random Forest\n",
    "\n",
    "On transforme les données en Numpy arrays pour pouvoir les utiliser dans le modèle"
   ]
  },
  {
   "cell_type": "markdown",
   "metadata": {},
   "source": [
    "#On stocke la variable à prédire dans cible\n",
    "cible1 = np.array(df['CCT '])\n",
    "cible2 = np.array(df['PREN'])\n",
    "cible3 = np.array(df['E (GPa)'])\n",
    "cible4 = np.array(df['Vcorr (mm/an)'])\n",
    "cible5 = np.array(df['E corrosion (V)'])\n",
    "cible6 = np.array(df['Prix (US$/kg)'])\n",
    "#On supprime cette variable du dataset\n",
    "df= df.drop('CCT ', axis = 1)\n",
    "df= df.drop('PREN', axis = 1)\n",
    "df= df.drop('E (GPa)', axis = 1)\n",
    "df= df.drop('Vcorr (mm/an)', axis = 1)\n",
    "df= df.drop('E corrosion (V)', axis = 1)\n",
    "df= df.drop('Prix (US$/kg)', axis = 1)\n",
    "#On conserve les noms de variable à part\n",
    "liste_variables = list(df.columns)\n",
    "#On convertit le dataset en array\n",
    "df = np.array(df)"
   ]
  },
  {
   "cell_type": "markdown",
   "metadata": {},
   "source": [
    "## Split du dataset en train et test\n",
    "\n",
    "On choisit de faire l’apprentissage sur un échantillon d’apprentissage de 75% des données et de faire le test sur 25% des données. On va également séparer la variable à prédire Happiness.Score des variables de prédiction"
   ]
  },
  {
   "cell_type": "code",
   "execution_count": 10,
   "metadata": {},
   "outputs": [],
   "source": [
    "#On créé 4 dataset : \n",
    "#   - x_train contient 75% de x  \n",
    "#   - y_train contient le CCT associé à x_train\n",
    "# => x_train et y_train permettront d'entraîner l'algorithme\n",
    "#\n",
    "#   - x_test contient 25% de x  \n",
    "#   - y_test contient le CCT associé à x_test\n",
    "# => x_test et y_test permettront d'évaluer la performance de l'algorithme une fois entrainé sur le train\n",
    "x1_train,x1_test,y1_train,y1_test=train_test_split(df,cible1,test_size=0.25, random_state=2020)\n",
    "x2_train,x2_test,y2_train,y2_test=train_test_split(df,cible2,test_size=0.25, random_state=2020)\n",
    "x3_train,x3_test,y3_train,y3_test=train_test_split(df,cible3,test_size=0.25, random_state=2020)\n",
    "x4_train,x4_test,y4_train,y4_test=train_test_split(df,cible4,test_size=0.25, random_state=2020)\n",
    "x6_train,x6_test,y6_train,y6_test=train_test_split(df,cible6,test_size=0.25, random_state=2020)"
   ]
  },
  {
   "cell_type": "markdown",
   "metadata": {},
   "source": [
    "## Apprentissage\n",
    "\n",
    "J’ai choisi d’utiliser un algorithme Random Forest."
   ]
  },
  {
   "cell_type": "code",
   "execution_count": null,
   "metadata": {
    "scrolled": true
   },
   "outputs": [
    {
     "name": "stdout",
     "output_type": "stream",
     "text": [
      "Mean Absolute Error for CCT: 1.5249462366\n",
      "Mean Absolute % Error for CCT: 18.4468680662 %.\n",
      "Mean Absolute Error for PREN: 0.6456774194\n",
      "Mean Absolute % Error for PREN: 7.8208500831 %.\n",
      "Mean Absolute Error for E: 0.5705376344\n",
      "Mean Absolute % Error for E: 0.3169016669 %.\n",
      "Mean Absolute Error for Vcorr: 2293.199177574\n",
      "Mean Absolute % Error for Vcorr: 22119.2866125779 %.\n",
      "Mean Absolute Error for Prix: 0.7953339785\n",
      "Mean Absolute % Error for Prix: 2.8687384439 %.\n"
     ]
    }
   ],
   "source": [
    "#On importe l'algorithme à partir de sklearn\n",
    "from sklearn.ensemble import RandomForestRegressor\n",
    "#On créé un Random Forest de 100 arbres \n",
    "\n",
    "rf1 = RandomForestRegressor(n_estimators = 50, random_state = 2020)\n",
    "rf2 = RandomForestRegressor(n_estimators = 50, random_state = 2020)\n",
    "rf3 = RandomForestRegressor(n_estimators = 50, random_state = 2020)\n",
    "rf4 = RandomForestRegressor(n_estimators = 50, random_state = 2020)\n",
    "rf6 = RandomForestRegressor(n_estimators = 50, random_state = 2020)\n",
    "\n",
    "\n",
    "##### FOR CCT #####\n",
    "\n",
    "#On lance le training sur notre dataset de train\n",
    "rf1.fit(x1_train, y1_train)\n",
    "\n",
    "#On applique le modèle que l'on vient d'entraîner sur l'échantillon de test\n",
    "predictions = rf1.predict(x1_test)\n",
    "\n",
    "# MAE \n",
    "erreurs = abs(predictions - y1_test)\n",
    "print('Mean Absolute Error for CCT:', round(np.mean(erreurs), 10))\n",
    "\n",
    "# MAPE\n",
    "mape = 100 * (erreurs / y1_test)\n",
    "print('Mean Absolute % Error for CCT:', round(np.mean(mape), 10), '%.')\n",
    "\n",
    "##### FOR PREN #####\n",
    "\n",
    "rf2.fit(x2_train, y2_train)\n",
    "predictions = rf2.predict(x2_test)\n",
    "erreurs = abs(predictions - y2_test)\n",
    "print('Mean Absolute Error for PREN:', round(np.mean(erreurs), 10))\n",
    "mape = 100 * (erreurs / y2_test)\n",
    "print('Mean Absolute % Error for PREN:', round(np.mean(mape), 10), '%.')\n",
    "\n",
    "##### FOR E #####\n",
    "\n",
    "rf3.fit(x3_train, y3_train)\n",
    "predictions = rf3.predict(x3_test)\n",
    "erreurs = abs(predictions - y3_test)\n",
    "print('Mean Absolute Error for E:', round(np.mean(erreurs), 10))\n",
    "mape = 100 * (erreurs / y3_test)\n",
    "print('Mean Absolute % Error for E:', round(np.mean(mape), 10), '%.')\n",
    "\n",
    "##### FOR Vcorr #####\n",
    "\n",
    "rf4.fit(x4_train, y4_train)\n",
    "predictions = rf4.predict(x4_test)\n",
    "erreurs = abs(predictions - y4_test)\n",
    "print('Mean Absolute Error for Vcorr:', round(np.mean(erreurs), 10))\n",
    "mape = 100 * (erreurs / y4_test)\n",
    "print('Mean Absolute % Error for Vcorr:', round(np.mean(mape), 10), '%.')\n",
    "\n",
    "\n",
    "##### FOR Prix #####\n",
    "\n",
    "rf6.fit(x6_train, y6_train)\n",
    "predictions = rf6.predict(x6_test)\n",
    "erreurs = abs(predictions - y6_test)\n",
    "print('Mean Absolute Error for Prix:', round(np.mean(erreurs), 10))\n",
    "mape = 100 * (erreurs / y6_test)\n",
    "print('Mean Absolute % Error for Prix:', round(np.mean(mape), 10), '%.')"
   ]
  },
  {
   "cell_type": "markdown",
   "metadata": {},
   "source": [
    "##  Interprétation des résultats\n",
    "\n",
    "On calcule les variables d’importance du modèle, c’est à dire celles qui contribuent le plus."
   ]
  },
  {
   "cell_type": "code",
   "execution_count": null,
   "metadata": {},
   "outputs": [
    {
     "data": {
      "text/plain": [
       "Text(0.5, 0, 'Relative Importances')"
      ]
     },
     "execution_count": 12,
     "metadata": {},
     "output_type": "execute_result"
    },
    {
     "data": {
      "image/png": "[encoded data removed]",
      "text/plain": [
       "<Figure size 288x432 with 1 Axes>"
      ]
     },
     "metadata": {
      "needs_background": "light"
     },
     "output_type": "display_data"
    },
    {
     "data": {
      "image/png": "[encoded data removed]",
      "text/plain": [
       "<Figure size 288x432 with 1 Axes>"
      ]
     },
     "metadata": {
      "needs_background": "light"
     },
     "output_type": "display_data"
    },
    {
     "data": {
      "image/png": "[encoded data removed]",
      "text/plain": [
       "<Figure size 288x432 with 1 Axes>"
      ]
     },
     "metadata": {
      "needs_background": "light"
     },
     "output_type": "display_data"
    },
    {
     "data": {
      "image/png": "[encoded data removed]",
      "text/plain": [
       "<Figure size 288x432 with 1 Axes>"
      ]
     },
     "metadata": {
      "needs_background": "light"
     },
     "output_type": "display_data"
    },
    {
     "data": {
      "image/png": "[encoded data removed]",
      "text/plain": [
       "<Figure size 288x432 with 1 Axes>"
      ]
     },
     "metadata": {
      "needs_background": "light"
     },
     "output_type": "display_data"
    }
   ],
   "source": [
    "importances1 = rf1.feature_importances_\n",
    "indices1 = np.argsort(importances1)\n",
    "\n",
    "importances2 = rf2.feature_importances_\n",
    "indices2 = np.argsort(importances2)\n",
    "\n",
    "importances3 = rf3.feature_importances_\n",
    "indices3 = np.argsort(importances3)\n",
    "\n",
    "importances4 = rf4.feature_importances_\n",
    "indices4 = np.argsort(importances4)\n",
    "\n",
    "importances6 = rf6.feature_importances_\n",
    "indices6 = np.argsort(importances6)\n",
    "\n",
    "# style du graphique \n",
    "plt.style.use('fivethirtyeight')\n",
    "%matplotlib inline\n",
    "\n",
    "plt.figure(1,figsize=(4,6))\n",
    "plt.title('Feature Importances for CCT')\n",
    "plt.barh(range(len(indices1)), importances1[indices1], color='b', align='center')\n",
    "plt.yticks(range(len(indices1)), [liste_variables[i] for i in indices1])\n",
    "plt.xlabel('Relative Importances')\n",
    "\n",
    "plt.figure(2,figsize=(4,6))\n",
    "plt.title('Feature Importances for PREN')\n",
    "plt.barh(range(len(indices2)), importances2[indices2], color='b', align='center')\n",
    "plt.yticks(range(len(indices2)), [liste_variables[i] for i in indices2])\n",
    "plt.xlabel('Relative Importances')\n",
    "\n",
    "plt.figure(3,figsize=(4,6))\n",
    "plt.title('Feature Importances for E')\n",
    "plt.barh(range(len(indices3)), importances3[indices3], color='b', align='center')\n",
    "plt.yticks(range(len(indices3)), [liste_variables[i] for i in indices3])\n",
    "plt.xlabel('Relative Importances')\n",
    "\n",
    "plt.figure(4,figsize=(4,6))\n",
    "plt.title('Feature Importances for Vcorr')\n",
    "plt.barh(range(len(indices4)), importances4[indices4], color='b', align='center')\n",
    "plt.yticks(range(len(indices4)), [liste_variables[i] for i in indices4])\n",
    "plt.xlabel('Relative Importances')\n",
    "\n",
    "plt.figure(6,figsize=(4,6))\n",
    "plt.title('Feature Importances for Prix')\n",
    "plt.barh(range(len(indices6)), importances6[indices6], color='b', align='center')\n",
    "plt.yticks(range(len(indices6)), [liste_variables[i] for i in indices6])\n",
    "plt.xlabel('Relative Importances')"
   ]
  },
  {
   "cell_type": "markdown",
   "metadata": {},
   "source": [
    "## Test du programme"
   ]
  },
  {
   "cell_type": "code",
   "execution_count": null,
   "metadata": {},
   "outputs": [
    {
     "data": {
      "text/plain": [
       "array([[42. , 21.5, 28. , ...,  0. ,  0. ,  0. ],\n",
       "       [62. , 15. ,  2. , ...,  0. ,  0. ,  0. ],\n",
       "       [59. , 23. ,  3. , ...,  0. ,  0. ,  0. ],\n",
       "       ...,\n",
       "       [64.7,  0. ,  1. , ...,  0. ,  0. , 45.7],\n",
       "       [57. , 16. ,  5. , ...,  0. ,  0. ,  0. ],\n",
       "       [56. , 22. ,  3. , ...,  0. ,  0. ,  0. ]])"
      ]
     },
     "execution_count": 13,
     "metadata": {},
     "output_type": "execute_result"
    }
   ],
   "source": [
    "x1_test"
   ]
  },
  {
   "cell_type": "code",
   "execution_count": null,
   "metadata": {},
   "outputs": [
    {
     "data": {
      "text/plain": [
       "array([[4.200e+01, 2.150e+01, 2.800e+01, 3.000e-02, 3.000e+00, 0.000e+00,\n",
       "        0.000e+00, 1.800e-01, 0.000e+00, 4.900e-02, 0.000e+00, 1.000e-02,\n",
       "        4.500e-01, 2.300e-01, 3.000e+00, 8.000e-03, 5.000e-03, 3.235e+02,\n",
       "        0.000e+00, 0.000e+00, 0.000e+00, 6.000e+01, 0.000e+00, 0.000e+00,\n",
       "        0.000e+00, 0.000e+00, 0.000e+00]])"
      ]
     },
     "execution_count": 14,
     "metadata": {},
     "output_type": "execute_result"
    }
   ],
   "source": [
    "x1_test[0:1,:]"
   ]
  },
  {
   "cell_type": "code",
   "execution_count": null,
   "metadata": {},
   "outputs": [
    {
     "data": {
      "text/plain": [
       "array([8.35])"
      ]
     },
     "execution_count": 15,
     "metadata": {},
     "output_type": "execute_result"
    }
   ],
   "source": [
    "rf1.predict(x1_test[0:1,:])"
   ]
  },
  {
   "cell_type": "markdown",
   "metadata": {},
   "source": [
    " # Interface utilisateur"
   ]
  },
  {
   "cell_type": "code",
   "execution_count": null,
   "metadata": {},
   "outputs": [
    {
     "ename": "ModuleNotFoundError",
     "evalue": "No module named 'tkinter'",
     "output_type": "error",
     "traceback": [
      "\u001b[0;31m---------------------------------------------------------------------------\u001b[0m",
      "\u001b[0;31mModuleNotFoundError\u001b[0m                       Traceback (most recent call last)",
      "Input \u001b[0;32mIn [16]\u001b[0m, in \u001b[0;36m<module>\u001b[0;34m\u001b[0m\n\u001b[0;32m----> 1\u001b[0m \u001b[38;5;28;01mimport\u001b[39;00m \u001b[38;5;21;01mtkinter\u001b[39;00m\n\u001b[1;32m      2\u001b[0m \u001b[38;5;28;01mimport\u001b[39;00m \u001b[38;5;21;01mtkinter\u001b[39;00m\u001b[38;5;21;01m.\u001b[39;00m\u001b[38;5;21;01mfont\u001b[39;00m \u001b[38;5;28;01mas\u001b[39;00m \u001b[38;5;21;01mtkFont\u001b[39;00m\n\u001b[1;32m      3\u001b[0m \u001b[38;5;28;01mfrom\u001b[39;00m \u001b[38;5;21;01mtkinter\u001b[39;00m \u001b[38;5;28;01mimport\u001b[39;00m \u001b[38;5;241m*\u001b[39m\n",
      "\u001b[0;31mModuleNotFoundError\u001b[0m: No module named 'tkinter'"
     ]
    }
   ],
   "source": [
    "import tkinter\n",
    "import tkinter.font as tkFont\n",
    "from tkinter import *\n",
    "\n",
    "def IA():\n",
    "    if CCT.get()==1 :\n",
    "        CCTpred = rf1.predict([[float(vars1[i].get()) for i in range(len(vars1))]])\n",
    "        tkinter.Label(param, text = 'CCT : %d'% CCTpred).grid(row=1, column=6)\n",
    "    if PREN.get()==1 :\n",
    "        PRENpred = rf2.predict([[float(vars1[i].get()) for i in range(len(vars1))]])\n",
    "        tkinter.Label(param, text = 'PREN : %d'% PRENpred).grid(row=2, column=6)\n",
    "    if E.get()==1 :\n",
    "        Epred = rf3.predict([[float(vars1[i].get()) for i in range(len(vars1))]])\n",
    "        tkinter.Label(param, text = 'E : %d'% Epred).grid(row=3, column=6)\n",
    "    if Vcorr.get()==1 :\n",
    "        Vcorrpred = rf4.predict([[float(vars1[i].get()) for i in range(len(vars1))]])\n",
    "        tkinter.Label(param, text = 'Vcorr : %d'% Vcorrpred).grid(row=4, column=6)\n",
    "    if Prix.get()==1 :\n",
    "        Prixpred = rf6.predict([[float(vars1[i].get()) for i in range(len(vars1))]])\n",
    "        tkinter.Label(param, text = 'Prix : %d'% Prixpred).grid(row=5, column=6)\n",
    "    #param.mainloop()   \n",
    "    \n",
    "\n",
    "\n",
    "\n",
    "vars1 = []\n",
    "\n",
    "param= tkinter.Tk()\n",
    "\n",
    "#param_ini = tkinter.Tk()\n",
    "#param = Canvas(param_ini)\n",
    "#param.grid(row=20, column=10, sticky=(N,E,S,W))\n",
    "\n",
    "\n",
    "tkinter.Label(param, text=\"Quelles conditions expérimentales ?\", font='Helvetica 12 bold').grid(row=0, column=0)\n",
    "\n",
    "\n",
    "for i in range(0,15):\n",
    "    var=tkinter.StringVar()\n",
    "    var.set(0)\n",
    "    item = liste_variables[i]\n",
    "    tkinter.Label(param, text=item, height=2).grid(row=i+1, column=0)\n",
    "    Ent = tkinter.Entry(param, text=item, width=20,\n",
    "                        textvariable=var\n",
    "                       ).grid(row=i+1, column=1)\n",
    "    vars1.append(var)\n",
    "    \n",
    "for i in range(15,len(liste_variables)):\n",
    "    var=tkinter.StringVar()\n",
    "    var.set(0)\n",
    "    item = liste_variables[i]\n",
    "    tkinter.Label(param, text=item, height=2).grid(row=i-14, column=2)\n",
    "    Ent = tkinter.Entry(param, text=item, width=20,\n",
    "                        textvariable=var).grid(row=i-14, column=3)\n",
    "    vars1.append(var)\n",
    "\n",
    "\n",
    "\n",
    "#for i in range(0,len(liste_variables)):\n",
    "#    var=tkinter.StringVar()\n",
    "#    var.set(0)\n",
    "#    item = liste_variables[i]\n",
    "#    tkinter.Label(param, text=item, height=2).grid(row=i+1, column=0)\n",
    "#    Ent = tkinter.Entry(param, text=item, width=20,\n",
    "#                        textvariable=var\n",
    "#                       ).grid(row=i+1, column=1)\n",
    "#    vars1.append(var)\n",
    "    \n",
    "\n",
    "#print(vars1)\n",
    "\n",
    "#for elem in vars1 :\n",
    " #   elem2 = elem.get()\n",
    "  #  print( elem2)\n",
    "    \n",
    "\n",
    "    \n",
    "CCT = tkinter.IntVar()  \n",
    "PREN = tkinter.IntVar()\n",
    "E = tkinter.IntVar()\n",
    "Vcorr= tkinter.IntVar()\n",
    "Ecorr= tkinter.IntVar()\n",
    "Prix= tkinter.IntVar()\n",
    "  \n",
    "tkinter.Label(param, text=\"Que voulez-vous en sortie?\", font='Helvetica 12 bold', width=30).grid(row=0, column=5)\n",
    "CB1=tkinter.Checkbutton(param, text='CCT (°K)',variable=CCT,onvalue = 1, offvalue = 0, width=30, height=2).grid(row=1, column=5)\n",
    "CB2=tkinter.Checkbutton(param, text='PREN',variable=PREN,onvalue = 1, offvalue = 0, width=30, height=2).grid(row=2, column=5)\n",
    "CB3=tkinter.Checkbutton(param, text='E (GPa)',variable=E,onvalue = 1, offvalue = 0, width=30, height=2).grid(row=3, column=5)\n",
    "CB4=tkinter.Checkbutton(param, text='Vcorr (micromètres/an)',variable=Vcorr,onvalue = 1, offvalue = 0, width=30, height=2).grid(row=4, column=5)\n",
    "CB6=tkinter.Checkbutton(param, text='Prix (US$/kg)',variable=Prix,onvalue = 1, offvalue = 0, width=30, height=2).grid(row=5, column=5)\n",
    "b = tkinter.Button(param, text='Allons-y', command=IA, width=20, height=5).grid(row=6, column=5)\n",
    "\n",
    "#vsbar = tkinter.Scrollbar(param, orient=\"vertical\", command=param.yview)\n",
    "#param.configure(yscrollcommand=vsbar.set)\n",
    "\n",
    "#vsbar.grid(row=0, column=5, rowspan= 5, sticky=tkinter.NS)\n",
    "\n",
    "\n",
    "#scrollbar = tkinter.Scrollbar(param)\n",
    "#scrollbar.grid(row=0, column=5, rowspan= 5, sticky=tkinter.NS)\n",
    "\n",
    "#scrollbar.config(command= param.yview)\n",
    "\n",
    "#param.config(yscrollcommand = scrollbar.set)\n",
    "\n",
    "\n",
    "mainloop()\n",
    "\n",
    "\n",
    "param.mainloop()\n"
   ]
  },
  {
   "cell_type": "code",
   "execution_count": null,
   "metadata": {},
   "outputs": [],
   "source": []
  },
  {
   "cell_type": "code",
   "execution_count": null,
   "metadata": {},
   "outputs": [],
   "source": []
  },
  {
   "cell_type": "code",
   "execution_count": null,
   "metadata": {},
   "outputs": [],
   "source": []
  }
 ],
 "metadata": {
  "kernelspec": {
   "display_name": "Python 3 (ipykernel)",
   "language": "python",
   "name": "python3"
  },
  "language_info": {
   "codemirror_mode": {
    "name": "ipython",
    "version": 3
   },
   "file_extension": ".py",
   "mimetype": "text/x-python",
   "name": "python",
   "nbconvert_exporter": "python",
   "pygments_lexer": "ipython3",
   "version": "3.8.10"
  }
 },
 "nbformat": 4,
 "nbformat_minor": 4
}
